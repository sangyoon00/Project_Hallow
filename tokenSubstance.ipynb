{
 "cells": [
  {
   "cell_type": "code",
   "execution_count": 1,
   "metadata": {},
   "outputs": [],
   "source": [
    "import pandas as pd\n",
    "from konlpy.tag import Twitter"
   ]
  },
  {
   "cell_type": "code",
   "execution_count": 3,
   "metadata": {
    "scrolled": true
   },
   "outputs": [
    {
     "data": {
      "text/html": [
       "<div>\n",
       "<style scoped>\n",
       "    .dataframe tbody tr th:only-of-type {\n",
       "        vertical-align: middle;\n",
       "    }\n",
       "\n",
       "    .dataframe tbody tr th {\n",
       "        vertical-align: top;\n",
       "    }\n",
       "\n",
       "    .dataframe thead th {\n",
       "        text-align: right;\n",
       "    }\n",
       "</style>\n",
       "<table border=\"1\" class=\"dataframe\">\n",
       "  <thead>\n",
       "    <tr style=\"text-align: right;\">\n",
       "      <th></th>\n",
       "      <th>민사소송법 제422조 제1항 제7호 소정의 재심사유인증인의 허위진술이 판결의 증거가 된 때라 함은 그 허위진술이 판결주문에 영향을 미치는 사실인정의 직접적 또는 간접적인 자료로 제공되어 그 허위진술이 없었더라면 판결의 주문이 달라질 수도 있었을 것이라는 일응의 개연성이 있는 경우를 말하므로 그 허위진술을 제외하더라도 나머지 증거들만에 의하여 쟁점사실이 인정되어 판결주문에 아무런 영향도 미치지 아니하는 경우에는 비록 그 허위진술이 위증죄로 유죄의 확정판결을 받았다 하더라도 재심사유에 해당되지 않는다</th>\n",
       "    </tr>\n",
       "  </thead>\n",
       "  <tbody>\n",
       "    <tr>\n",
       "      <th>0</th>\n",
       "      <td>기존채무와 어음 수표채무가 병존하는 경우 원인채무의 이행과 어음 수표의 반환이 동시...</td>\n",
       "    </tr>\n",
       "    <tr>\n",
       "      <th>1</th>\n",
       "      <td>가 학교법인과 임의단체인 평교사협의회 사이에 이루어진 정관규정에 위반된 징계위원회 ...</td>\n",
       "    </tr>\n",
       "    <tr>\n",
       "      <th>2</th>\n",
       "      <td>가 근로자가 사업장을 떠나 출장 중인 경우에는 그 용무의 성 불성이나 수행방법 등에...</td>\n",
       "    </tr>\n",
       "    <tr>\n",
       "      <th>3</th>\n",
       "      <td>갑이 건물 철거 및 대지 인도를 약정한 것이 장차 경계측량을 하여 갑의 건물이 을의...</td>\n",
       "    </tr>\n",
       "    <tr>\n",
       "      <th>4</th>\n",
       "      <td>가 회사가 근로자와 근로계약을 체결할 당시 근로자의 표창과 제재에 관한 사항을 정한...</td>\n",
       "    </tr>\n",
       "  </tbody>\n",
       "</table>\n",
       "</div>"
      ],
      "text/plain": [
       "  민사소송법 제422조 제1항 제7호 소정의 재심사유인증인의 허위진술이 판결의 증거가 된 때라 함은 그 허위진술이 판결주문에 영향을 미치는 사실인정의 직접적 또는 간접적인 자료로 제공되어 그 허위진술이 없었더라면 판결의 주문이 달라질 수도 있었을 것이라는 일응의 개연성이 있는 경우를 말하므로 그 허위진술을 제외하더라도 나머지 증거들만에 의하여 쟁점사실이 인정되어 판결주문에 아무런 영향도 미치지 아니하는 경우에는 비록 그 허위진술이 위증죄로 유죄의 확정판결을 받았다 하더라도 재심사유에 해당되지 않는다\n",
       "0  기존채무와 어음 수표채무가 병존하는 경우 원인채무의 이행과 어음 수표의 반환이 동시...                                                                                                                                                                                                                                      \n",
       "1  가 학교법인과 임의단체인 평교사협의회 사이에 이루어진 정관규정에 위반된 징계위원회 ...                                                                                                                                                                                                                                      \n",
       "2  가 근로자가 사업장을 떠나 출장 중인 경우에는 그 용무의 성 불성이나 수행방법 등에...                                                                                                                                                                                                                                      \n",
       "3  갑이 건물 철거 및 대지 인도를 약정한 것이 장차 경계측량을 하여 갑의 건물이 을의...                                                                                                                                                                                                                                      \n",
       "4  가 회사가 근로자와 근로계약을 체결할 당시 근로자의 표창과 제재에 관한 사항을 정한...                                                                                                                                                                                                                                      "
      ]
     },
     "metadata": {},
     "output_type": "display_data"
    }
   ],
   "source": [
    "contents=pd.read_csv('./case5_substance.csv',encoding='euc-kr')\n",
    "display(contents.head())\n"
   ]
  },
  {
   "cell_type": "code",
   "execution_count": 5,
   "metadata": {},
   "outputs": [],
   "source": [
    "column_name=['substance']\n",
    "contents=pd.read_csv('./case5_substance.csv',encoding='euc-kr')\n",
    "data=contents.values.tolist()\n",
    "new_contents=pd.DataFrame(data,columns=column_name)"
   ]
  },
  {
   "cell_type": "code",
   "execution_count": 6,
   "metadata": {},
   "outputs": [
    {
     "data": {
      "text/html": [
       "<div>\n",
       "<style scoped>\n",
       "    .dataframe tbody tr th:only-of-type {\n",
       "        vertical-align: middle;\n",
       "    }\n",
       "\n",
       "    .dataframe tbody tr th {\n",
       "        vertical-align: top;\n",
       "    }\n",
       "\n",
       "    .dataframe thead th {\n",
       "        text-align: right;\n",
       "    }\n",
       "</style>\n",
       "<table border=\"1\" class=\"dataframe\">\n",
       "  <thead>\n",
       "    <tr style=\"text-align: right;\">\n",
       "      <th></th>\n",
       "      <th>substance</th>\n",
       "    </tr>\n",
       "  </thead>\n",
       "  <tbody>\n",
       "    <tr>\n",
       "      <th>0</th>\n",
       "      <td>기존채무와 어음 수표채무가 병존하는 경우 원인채무의 이행과 어음 수표의 반환이 동시...</td>\n",
       "    </tr>\n",
       "    <tr>\n",
       "      <th>1</th>\n",
       "      <td>가 학교법인과 임의단체인 평교사협의회 사이에 이루어진 정관규정에 위반된 징계위원회 ...</td>\n",
       "    </tr>\n",
       "    <tr>\n",
       "      <th>2</th>\n",
       "      <td>가 근로자가 사업장을 떠나 출장 중인 경우에는 그 용무의 성 불성이나 수행방법 등에...</td>\n",
       "    </tr>\n",
       "    <tr>\n",
       "      <th>3</th>\n",
       "      <td>갑이 건물 철거 및 대지 인도를 약정한 것이 장차 경계측량을 하여 갑의 건물이 을의...</td>\n",
       "    </tr>\n",
       "    <tr>\n",
       "      <th>4</th>\n",
       "      <td>가 회사가 근로자와 근로계약을 체결할 당시 근로자의 표창과 제재에 관한 사항을 정한...</td>\n",
       "    </tr>\n",
       "  </tbody>\n",
       "</table>\n",
       "</div>"
      ],
      "text/plain": [
       "                                           substance\n",
       "0  기존채무와 어음 수표채무가 병존하는 경우 원인채무의 이행과 어음 수표의 반환이 동시...\n",
       "1  가 학교법인과 임의단체인 평교사협의회 사이에 이루어진 정관규정에 위반된 징계위원회 ...\n",
       "2  가 근로자가 사업장을 떠나 출장 중인 경우에는 그 용무의 성 불성이나 수행방법 등에...\n",
       "3  갑이 건물 철거 및 대지 인도를 약정한 것이 장차 경계측량을 하여 갑의 건물이 을의...\n",
       "4  가 회사가 근로자와 근로계약을 체결할 당시 근로자의 표창과 제재에 관한 사항을 정한..."
      ]
     },
     "metadata": {},
     "output_type": "display_data"
    }
   ],
   "source": [
    "display(new_contents.head())"
   ]
  },
  {
   "cell_type": "code",
   "execution_count": null,
   "metadata": {},
   "outputs": [],
   "source": []
  }
 ],
 "metadata": {
  "kernelspec": {
   "display_name": "Python 3 (ipykernel)",
   "language": "python",
   "name": "python3"
  },
  "language_info": {
   "codemirror_mode": {
    "name": "ipython",
    "version": 3
   },
   "file_extension": ".py",
   "mimetype": "text/x-python",
   "name": "python",
   "nbconvert_exporter": "python",
   "pygments_lexer": "ipython3",
   "version": "3.9.7"
  },
  "vscode": {
   "interpreter": {
    "hash": "6bf404307172cf8f5ec1af50b3fef06dec44c3669265160b670186acbe823642"
   }
  }
 },
 "nbformat": 4,
 "nbformat_minor": 2
}
